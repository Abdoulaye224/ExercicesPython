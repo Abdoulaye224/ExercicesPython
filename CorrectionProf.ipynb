{
 "cells": [
  {
   "cell_type": "code",
   "execution_count": 1,
   "metadata": {},
   "outputs": [],
   "source": [
    "liste = [[1, 2], [3,4], [5,6], [7,8]]"
   ]
  },
  {
   "cell_type": "code",
   "execution_count": 3,
   "metadata": {},
   "outputs": [
    {
     "name": "stdout",
     "output_type": "stream",
     "text": [
      "1\n",
      "2\n",
      "3\n",
      "4\n",
      "5\n",
      "6\n",
      "7\n",
      "8\n"
     ]
    }
   ],
   "source": [
    "for sousListe in liste:\n",
    "    for el in sousListe:\n",
    "        print(el)"
   ]
  },
  {
   "cell_type": "code",
   "execution_count": 5,
   "metadata": {},
   "outputs": [
    {
     "data": {
      "text/plain": [
       "{1: 2, 3: 4, 5: 6, 7: 8}"
      ]
     },
     "execution_count": 5,
     "metadata": {},
     "output_type": "execute_result"
    }
   ],
   "source": [
    "dico={}\n",
    "for sousListe in liste:\n",
    "    dico[sousListe[0]] = sousListe[1]\n",
    "dico"
   ]
  },
  {
   "cell_type": "markdown",
   "metadata": {},
   "source": [
    "<h3 style=\"color:cadetblue\">unPacking </h3>"
   ]
  },
  {
   "cell_type": "code",
   "execution_count": 8,
   "metadata": {},
   "outputs": [
    {
     "data": {
      "text/plain": [
       "{1: 2, 3: 4, 5: 6, 7: 8}"
      ]
     },
     "execution_count": 8,
     "metadata": {},
     "output_type": "execute_result"
    }
   ],
   "source": [
    "dico={}\n",
    "for el1, el2 in liste:\n",
    "    dico[el1] = el2\n",
    "dico"
   ]
  },
  {
   "cell_type": "markdown",
   "metadata": {},
   "source": [
    "<h3 style=\"color:cadetblue\">dict compréhension </h3>"
   ]
  },
  {
   "cell_type": "code",
   "execution_count": 10,
   "metadata": {},
   "outputs": [
    {
     "data": {
      "text/plain": [
       "{1: 2, 3: 4, 5: 6, 7: 8}"
      ]
     },
     "execution_count": 10,
     "metadata": {},
     "output_type": "execute_result"
    }
   ],
   "source": [
    "{key:val for key, val in liste}"
   ]
  },
  {
   "cell_type": "code",
   "execution_count": 11,
   "metadata": {},
   "outputs": [
    {
     "data": {
      "text/plain": [
       "{1: 2, 3: 4, 5: 6, 7: 8}"
      ]
     },
     "execution_count": 11,
     "metadata": {},
     "output_type": "execute_result"
    }
   ],
   "source": [
    "{el1:el2 for el1, el2 in liste}"
   ]
  },
  {
   "cell_type": "markdown",
   "metadata": {},
   "source": [
    "### Exercice 2 "
   ]
  },
  {
   "cell_type": "code",
   "execution_count": 13,
   "metadata": {},
   "outputs": [],
   "source": [
    "from collections import defaultdict, Counter"
   ]
  },
  {
   "cell_type": "code",
   "execution_count": 12,
   "metadata": {},
   "outputs": [],
   "source": [
    "text = \"\"\"Lorem ipsum dolor sit amet, consectetur adipiscing elit. Vestibulum sagittis neque turpis, in gravida erat tincidunt a. Maecenas lobortis rutrum arcu, in posuere dolor fermentum sed. Duis imperdiet laoreet nibh, a pretium lectus condimentum eget. Maecenas eu elit vitae nibh euismod lacinia et a tortor. Donec at egestas leo, eget molestie quam. Sed elementum scelerisque sapien, quis suscipit ex malesuada vel. Aenean non mollis erat, in tincidunt massa.\n",
    "\n",
    "Mauris semper, purus in dictum imperdiet, libero nunc bibendum ex, eget facilisis turpis lorem ac lorem. Sed bibendum scelerisque tortor vel dictum. Aliquam dignissim eget erat non mollis. Maecenas vehicula feugiat tortor, in vulputate ex molestie nec. Ut suscipit iaculis nulla, auctor elementum urna dapibus non. Fusce facilisis mollis tellus sit amet venenatis. Praesent metus enim, tincidunt posuere tellus et, placerat tincidunt justo.\n",
    "\n",
    "Nunc id gravida ipsum, id porttitor magna. Maecenas porttitor accumsan odio non mattis. Suspendisse ultrices eleifend tristique. Vivamus accumsan libero tortor, eu aliquam sapien iaculis sed. In congue quis mi sed condimentum. Ut est libero, condimentum sit amet sagittis eu, tincidunt sed risus. Suspendisse pharetra molestie rutrum. Cras bibendum, dui ac consectetur eleifend, leo leo laoreet nibh, eget tristique lorem enim a nisi.\n",
    "\n",
    "Duis a purus eu augue consectetur malesuada id nec ex. Pellentesque sed odio laoreet, imperdiet dui ut, sodales odio. Class aptent taciti sociosqu ad litora torquent per conubia nostra, per inceptos himenaeos. Donec interdum, tortor eu dapibus pharetra, libero nisi faucibus nisl, id malesuada felis diam id urna. Praesent est metus, gravida eu luctus vitae, egestas vel metus. Class aptent taciti sociosqu ad litora torquent per conubia nostra, per inceptos himenaeos. Cras suscipit malesuada dui, vitae faucibus libero mollis a. In posuere blandit augue, sed semper ante imperdiet sed. Cras egestas posuere augue at semper. Praesent fermentum nunc risus, vitae aliquet augue consectetur a. Fusce interdum orci nunc, non posuere ex venenatis id. Nam faucibus fringilla mollis. Nulla ac enim accumsan, accumsan risus sit amet, rutrum tellus. Praesent lacinia augue at pulvinar venenatis. Etiam nunc augue, suscipit a faucibus sed, sodales ut mauris.\n",
    "\n",
    "Quisque quis magna malesuada, ultricies leo eget, elementum est. Praesent enim purus, pretium a nisl quis, accumsan blandit sapien. Class aptent taciti sociosqu ad litora torquent per conubia nostra, per inceptos himenaeos. Mauris ultricies iaculis nunc, quis fringilla arcu bibendum ac. Integer eu sem eget dui tempor sagittis. Ut sit amet ipsum quis nisi porttitor pulvinar. Etiam suscipit, leo nec fringilla luctus, lacus est egestas augue, eget vestibulum augue diam non eros. Duis posuere ac magna eget ullamcorper.\n",
    "\"\"\""
   ]
  },
  {
   "cell_type": "code",
   "execution_count": 24,
   "metadata": {
    "collapsed": true
   },
   "outputs": [
    {
     "data": {
      "text/plain": [
       "{'L': 1,\n",
       " 'o': 108,\n",
       " 'r': 128,\n",
       " 'e': 285,\n",
       " 'm': 99,\n",
       " ' ': 410,\n",
       " 'i': 229,\n",
       " 'p': 59,\n",
       " 's': 203,\n",
       " 'u': 190,\n",
       " 'd': 71,\n",
       " 'l': 106,\n",
       " 't': 196,\n",
       " 'a': 192,\n",
       " ',': 47,\n",
       " 'c': 96,\n",
       " 'n': 147,\n",
       " 'g': 38,\n",
       " '.': 46,\n",
       " 'V': 2,\n",
       " 'b': 30,\n",
       " 'q': 23,\n",
       " 'v': 19,\n",
       " 'M': 6,\n",
       " 'f': 15,\n",
       " 'D': 5,\n",
       " 'h': 9,\n",
       " 'S': 4,\n",
       " 'x': 5,\n",
       " 'A': 2,\n",
       " '\\n': 9,\n",
       " 'U': 3,\n",
       " 'F': 2,\n",
       " 'P': 6,\n",
       " 'j': 1,\n",
       " 'N': 3,\n",
       " 'I': 3,\n",
       " 'C': 6,\n",
       " 'E': 2,\n",
       " 'Q': 1}"
      ]
     },
     "execution_count": 24,
     "metadata": {},
     "output_type": "execute_result"
    }
   ],
   "source": [
    "dico = {}\n",
    "for carac in text:\n",
    "    #si le carac est dans les clés du dico\n",
    "    if carac in dico:\n",
    "        # augmente l'occ de 1\n",
    "        dico[carac] += 1\n",
    "    else:\n",
    "        # initialer / créer une nouvelle key:value pair\n",
    "        dico[carac] = 1\n",
    "dico"
   ]
  },
  {
   "cell_type": "code",
   "execution_count": 25,
   "metadata": {
    "collapsed": true
   },
   "outputs": [
    {
     "data": {
      "text/plain": [
       "defaultdict(int,\n",
       "            {'L': 1,\n",
       "             'o': 108,\n",
       "             'r': 128,\n",
       "             'e': 285,\n",
       "             'm': 99,\n",
       "             ' ': 410,\n",
       "             'i': 229,\n",
       "             'p': 59,\n",
       "             's': 203,\n",
       "             'u': 190,\n",
       "             'd': 71,\n",
       "             'l': 106,\n",
       "             't': 196,\n",
       "             'a': 192,\n",
       "             ',': 47,\n",
       "             'c': 96,\n",
       "             'n': 147,\n",
       "             'g': 38,\n",
       "             '.': 46,\n",
       "             'V': 2,\n",
       "             'b': 30,\n",
       "             'q': 23,\n",
       "             'v': 19,\n",
       "             'M': 6,\n",
       "             'f': 15,\n",
       "             'D': 5,\n",
       "             'h': 9,\n",
       "             'S': 4,\n",
       "             'x': 5,\n",
       "             'A': 2,\n",
       "             '\\n': 9,\n",
       "             'U': 3,\n",
       "             'F': 2,\n",
       "             'P': 6,\n",
       "             'j': 1,\n",
       "             'N': 3,\n",
       "             'I': 3,\n",
       "             'C': 6,\n",
       "             'E': 2,\n",
       "             'Q': 1})"
      ]
     },
     "execution_count": 25,
     "metadata": {},
     "output_type": "execute_result"
    }
   ],
   "source": [
    "dico = defaultdict(int)\n",
    "for carac in text:\n",
    "    dico[carac] +=1\n",
    "dico"
   ]
  },
  {
   "cell_type": "code",
   "execution_count": 27,
   "metadata": {},
   "outputs": [
    {
     "data": {
      "text/plain": [
       "'lorem ipsum dolor sit amet  consectetur adipiscing elit  vestibulum sagittis neque turpis  in gravida erat tincidunt a  maecenas lobortis rutrum arcu  in posuere dolor fermentum sed  duis imperdiet laoreet nibh  a pretium lectus condimentum eget  maecenas eu elit vitae nibh euismod lacinia et a tortor  donec at egestas leo  eget molestie quam  sed elementum scelerisque sapien  quis suscipit ex malesuada vel  aenean non mollis erat  in tincidunt massa   mauris semper  purus in dictum imperdiet  libero nunc bibendum ex  eget facilisis turpis lorem ac lorem  sed bibendum scelerisque tortor vel dictum  aliquam dignissim eget erat non mollis  maecenas vehicula feugiat tortor  in vulputate ex molestie nec  ut suscipit iaculis nulla  auctor elementum urna dapibus non  fusce facilisis mollis tellus sit amet venenatis  praesent metus enim  tincidunt posuere tellus et  placerat tincidunt justo   nunc id gravida ipsum  id porttitor magna  maecenas porttitor accumsan odio non mattis  suspendisse ultrices eleifend tristique  vivamus accumsan libero tortor  eu aliquam sapien iaculis sed  in congue quis mi sed condimentum  ut est libero  condimentum sit amet sagittis eu  tincidunt sed risus  suspendisse pharetra molestie rutrum  cras bibendum  dui ac consectetur eleifend  leo leo laoreet nibh  eget tristique lorem enim a nisi   duis a purus eu augue consectetur malesuada id nec ex  pellentesque sed odio laoreet  imperdiet dui ut  sodales odio  class aptent taciti sociosqu ad litora torquent per conubia nostra  per inceptos himenaeos  donec interdum  tortor eu dapibus pharetra  libero nisi faucibus nisl  id malesuada felis diam id urna  praesent est metus  gravida eu luctus vitae  egestas vel metus  class aptent taciti sociosqu ad litora torquent per conubia nostra  per inceptos himenaeos  cras suscipit malesuada dui  vitae faucibus libero mollis a  in posuere blandit augue  sed semper ante imperdiet sed  cras egestas posuere augue at semper  praesent fermentum nunc risus  vitae aliquet augue consectetur a  fusce interdum orci nunc  non posuere ex venenatis id  nam faucibus fringilla mollis  nulla ac enim accumsan  accumsan risus sit amet  rutrum tellus  praesent lacinia augue at pulvinar venenatis  etiam nunc augue  suscipit a faucibus sed  sodales ut mauris   quisque quis magna malesuada  ultricies leo eget  elementum est  praesent enim purus  pretium a nisl quis  accumsan blandit sapien  class aptent taciti sociosqu ad litora torquent per conubia nostra  per inceptos himenaeos  mauris ultricies iaculis nunc  quis fringilla arcu bibendum ac  integer eu sem eget dui tempor sagittis  ut sit amet ipsum quis nisi porttitor pulvinar  etiam suscipit  leo nec fringilla luctus  lacus est egestas augue  eget vestibulum augue diam non eros  duis posuere ac magna eget ullamcorper  '"
      ]
     },
     "execution_count": 27,
     "metadata": {},
     "output_type": "execute_result"
    }
   ],
   "source": [
    "new_text = text.replace('.', ' ').replace(',', ' ').replace(\"\\n\", ' ').lower()\n",
    "new_text"
   ]
  },
  {
   "cell_type": "code",
   "execution_count": 28,
   "metadata": {},
   "outputs": [
    {
     "data": {
      "text/plain": [
       "Counter({'lorem': 4,\n",
       "         'ipsum': 3,\n",
       "         'dolor': 2,\n",
       "         'sit': 5,\n",
       "         'amet': 5,\n",
       "         'consectetur': 4,\n",
       "         'adipiscing': 1,\n",
       "         'elit': 2,\n",
       "         'vestibulum': 2,\n",
       "         'sagittis': 3,\n",
       "         'neque': 1,\n",
       "         'turpis': 2,\n",
       "         'in': 7,\n",
       "         'gravida': 3,\n",
       "         'erat': 3,\n",
       "         'tincidunt': 5,\n",
       "         'a': 9,\n",
       "         'maecenas': 4,\n",
       "         'lobortis': 1,\n",
       "         'rutrum': 3,\n",
       "         'arcu': 2,\n",
       "         'posuere': 6,\n",
       "         'fermentum': 2,\n",
       "         'sed': 10,\n",
       "         'duis': 3,\n",
       "         'imperdiet': 4,\n",
       "         'laoreet': 3,\n",
       "         'nibh': 3,\n",
       "         'pretium': 2,\n",
       "         'lectus': 1,\n",
       "         'condimentum': 3,\n",
       "         'eget': 9,\n",
       "         'eu': 7,\n",
       "         'vitae': 4,\n",
       "         'euismod': 1,\n",
       "         'lacinia': 2,\n",
       "         'et': 2,\n",
       "         'tortor': 5,\n",
       "         'donec': 2,\n",
       "         'at': 3,\n",
       "         'egestas': 4,\n",
       "         'leo': 5,\n",
       "         'molestie': 3,\n",
       "         'quam': 1,\n",
       "         'elementum': 3,\n",
       "         'scelerisque': 2,\n",
       "         'sapien': 3,\n",
       "         'quis': 6,\n",
       "         'suscipit': 5,\n",
       "         'ex': 5,\n",
       "         'malesuada': 5,\n",
       "         'vel': 3,\n",
       "         'aenean': 1,\n",
       "         'non': 6,\n",
       "         'mollis': 5,\n",
       "         'massa': 1,\n",
       "         'mauris': 3,\n",
       "         'semper': 3,\n",
       "         'purus': 3,\n",
       "         'dictum': 2,\n",
       "         'libero': 5,\n",
       "         'nunc': 6,\n",
       "         'bibendum': 4,\n",
       "         'facilisis': 2,\n",
       "         'ac': 5,\n",
       "         'aliquam': 2,\n",
       "         'dignissim': 1,\n",
       "         'vehicula': 1,\n",
       "         'feugiat': 1,\n",
       "         'vulputate': 1,\n",
       "         'nec': 3,\n",
       "         'ut': 5,\n",
       "         'iaculis': 3,\n",
       "         'nulla': 2,\n",
       "         'auctor': 1,\n",
       "         'urna': 2,\n",
       "         'dapibus': 2,\n",
       "         'fusce': 2,\n",
       "         'tellus': 3,\n",
       "         'venenatis': 3,\n",
       "         'praesent': 5,\n",
       "         'metus': 3,\n",
       "         'enim': 4,\n",
       "         'placerat': 1,\n",
       "         'justo': 1,\n",
       "         'id': 6,\n",
       "         'porttitor': 3,\n",
       "         'magna': 3,\n",
       "         'accumsan': 5,\n",
       "         'odio': 3,\n",
       "         'mattis': 1,\n",
       "         'suspendisse': 2,\n",
       "         'ultrices': 1,\n",
       "         'eleifend': 2,\n",
       "         'tristique': 2,\n",
       "         'vivamus': 1,\n",
       "         'congue': 1,\n",
       "         'mi': 1,\n",
       "         'est': 4,\n",
       "         'risus': 3,\n",
       "         'pharetra': 2,\n",
       "         'cras': 3,\n",
       "         'dui': 4,\n",
       "         'nisi': 3,\n",
       "         'augue': 8,\n",
       "         'pellentesque': 1,\n",
       "         'sodales': 2,\n",
       "         'class': 3,\n",
       "         'aptent': 3,\n",
       "         'taciti': 3,\n",
       "         'sociosqu': 3,\n",
       "         'ad': 3,\n",
       "         'litora': 3,\n",
       "         'torquent': 3,\n",
       "         'per': 6,\n",
       "         'conubia': 3,\n",
       "         'nostra': 3,\n",
       "         'inceptos': 3,\n",
       "         'himenaeos': 3,\n",
       "         'interdum': 2,\n",
       "         'faucibus': 4,\n",
       "         'nisl': 2,\n",
       "         'felis': 1,\n",
       "         'diam': 2,\n",
       "         'luctus': 2,\n",
       "         'blandit': 2,\n",
       "         'ante': 1,\n",
       "         'aliquet': 1,\n",
       "         'orci': 1,\n",
       "         'nam': 1,\n",
       "         'fringilla': 3,\n",
       "         'pulvinar': 2,\n",
       "         'etiam': 2,\n",
       "         'quisque': 1,\n",
       "         'ultricies': 2,\n",
       "         'integer': 1,\n",
       "         'sem': 1,\n",
       "         'tempor': 1,\n",
       "         'lacus': 1,\n",
       "         'eros': 1,\n",
       "         'ullamcorper': 1})"
      ]
     },
     "execution_count": 28,
     "metadata": {},
     "output_type": "execute_result"
    }
   ],
   "source": [
    "Counter(new_text.split())"
   ]
  },
  {
   "cell_type": "code",
   "execution_count": 31,
   "metadata": {},
   "outputs": [
    {
     "name": "stdout",
     "output_type": "stream",
     "text": [
      "0 2\n",
      "1 3\n",
      "2 6\n",
      "3 7\n"
     ]
    }
   ],
   "source": [
    "for index, lettre in enumerate([2,3,6,7]):\n",
    "    print(index, lettre)"
   ]
  },
  {
   "cell_type": "code",
   "execution_count": 33,
   "metadata": {},
   "outputs": [
    {
     "data": {
      "text/plain": [
       "{'a': [0, 4], 'b': [1, 5], 'c': [2, 6, 8], 'd': [3, 7]}"
      ]
     },
     "execution_count": 33,
     "metadata": {},
     "output_type": "execute_result"
    }
   ],
   "source": [
    "dico = {}\n",
    "for index, lettre in enumerate(\"abcdabcdc\"):\n",
    "    if lettre in dico:\n",
    "        dico[lettre].append(index)\n",
    "    else:\n",
    "        dico[lettre] = [index]\n",
    "dico"
   ]
  }
 ],
 "metadata": {
  "kernelspec": {
   "display_name": "Python 3",
   "language": "python",
   "name": "python3"
  },
  "language_info": {
   "codemirror_mode": {
    "name": "ipython",
    "version": 3
   },
   "file_extension": ".py",
   "mimetype": "text/x-python",
   "name": "python",
   "nbconvert_exporter": "python",
   "pygments_lexer": "ipython3",
   "version": "3.8.5"
  }
 },
 "nbformat": 4,
 "nbformat_minor": 4
}
